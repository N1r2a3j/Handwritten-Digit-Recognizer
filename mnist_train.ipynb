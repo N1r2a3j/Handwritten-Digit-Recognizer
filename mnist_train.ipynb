{
 "cells": [
  {
   "cell_type": "code",
   "execution_count": 1,
   "metadata": {},
   "outputs": [],
   "source": [
    "from sklearn.datasets import fetch_openml\n",
    "\n",
     "# Load the MNIST dataset\n",
    "mnist = fetch_openml('mnist_784')"
   ]
  },
  {
   "cell_type": "code",
   "execution_count": 2,
   "metadata": {},
   "outputs": [],
   "source": [
    "#Generate dataset\n",
    "import cv2\n",
    "import csv\n",
    "import glob\n",
    "import numpy as np\n",
    "\n",
   "# Create CSV file\n",
    "data_np = np.array(mnist.data)\n",
    "target_np = np.array(mnist.target)\n",
    "\n",
    "# Create CSV file\n",
    "header = [\"label\"]\n",
    "for i in range(784):\n",
    "    header.append(\"pixel\" + str(i))\n",
    "\n",
    "with open('mnist_dataset.csv', 'w', newline='') as f:\n",
    "    writer = csv.writer(f)\n",
    "    writer.writerow(header)\n",
    "\n",
    "# Convert and write MNIST data to CSV\n",
    "for i in range(len(data_np)):\n",
    "    label = target_np[i]\n",
    "    data = [label]\n",
    "    for pixel in data_np[i]:\n",
    "        data.append(pixel)\n",
    "    with open('mnist_dataset.csv', 'a', newline='') as f:\n",
    "        writer = csv.writer(f)\n",
    "        writer.writerow(data)"
   ]
  },
  {
   "cell_type": "code",
   "execution_count": 3,
   "metadata": {},
   "outputs": [
    {
     "name": "stdout",
     "output_type": "stream",
     "text": [
      "Shape of features (X): (70000, 784)\n",
      "Shape of labels (Y): (70000,)\n"
     ]
    }
   ],
   "source": [
    "import pandas as pd\n",
    "from sklearn.utils import shuffle\n",
    "\n",
  
    "data = pd.read_csv('mnist_dataset.csv')\n",
    "\n",
   
    "data = shuffle(data)\n",
    "\n",
    "X = data.drop(\"label\", axis=1)\n",
    "Y = data[\"label\"]\n",
    "\n",
   
    "print(\"Shape of features (X):\", X.shape)\n",
    "print(\"Shape of labels (Y):\", Y.shape)\n",
    "\n"
   ]
  },
  {
   "cell_type": "code",
   "execution_count": 4,
   "metadata": {},
   "outputs": [
    {
     "name": "stdout",
     "output_type": "stream",
     "text": [
      "Index([39413,  6337, 21305, 29890, 26890, 21460, 64349, 30997, 68469, 44589,\n",
      "       ...\n",
      "       28889,  2551, 55899,  3569, 56588, 48848, 15673, 52985, 61603, 21473],\n",
      "      dtype='int64', length=70000)\n"
     ]
    }
   ],
   "source": [
    "print(X.index)"
   ]
  },
  {
   "cell_type": "code",
   "execution_count": 5,
   "metadata": {},
   "outputs": [
    {
     "name": "stdout",
     "output_type": "stream",
     "text": [
      "8\n"
     ]
    },
    {
     "data": {
      "text/plain": [
       "<matplotlib.image.AxesImage at 0x20888cbac10>"
      ]
     },
     "execution_count": 5,
     "metadata": {},
     "output_type": "execute_result"
    },
    {
     "data": {
      "image/png": "[encoded data removed]",
      "text/plain": [
       "<Figure size 640x480 with 1 Axes>"
      ]
     },
     "metadata": {},
     "output_type": "display_data"
    }
   ],
   "source": [
    "%matplotlib inline\n",
    "import matplotlib.pyplot as plt\n",
    "import cv2\n",
    "idx = 300\n",
    "img = X.loc[idx].values.reshape(28,28).astype(float)\n",
    "print(Y[idx])\n",
    "plt.imshow(img)"
   ]
  },
  {
   "cell_type": "code",
   "execution_count": 6,
   "metadata": {},
   "outputs": [
    {
     "name": "stdout",
     "output_type": "stream",
     "text": [
      "Accuracy = 0.9184464285714286\n"
     ]
    }
   ],
   "source": [
    "import os\n",
    "import numpy as np\n",
    "from sklearn.model_selection import train_test_split\n",
    "from sklearn.svm import SVC\n",
    "from sklearn import metrics\n",
    "import joblib\n",
    "\n",
  
    "\n",
    "if not os.path.exists(\"model\"):\n",
    "    os.makedirs(\"model\")\n",
    "\n",
    
    "train_x, test_x, train_y, test_y = train_test_split(X, Y, test_size=0.8)\n",
    "\n",
    
    "train_x = train_x.astype(np.float32) / 255\n",
    "test_x = test_x.astype(np.float32) / 255\n",
    "\n",
    
    "train_x = np.squeeze(train_x)\n",
    "test_x = np.squeeze(test_x)\n",
    "\n",

    "classifier = SVC(kernel=\"linear\", random_state=6)\n",
    "classifier.fit(train_x, train_y)\n",
    "\n",
    
    "joblib.dump(classifier, \"model/bestmodel.keras\")\n",
    "\n",
    "prediction = classifier.predict(test_x)\n",
    "\n",
    "accuracy = metrics.accuracy_score(prediction, test_y)\n",
    "print(\"Accuracy =\", accuracy)\n",
    "\n"
   ]
  },
  {
   "cell_type": "code",
   "execution_count": 10,
   "metadata": {},
   "outputs": [
    {
     "name": "stderr",
     "output_type": "stream",
     "text": [
      "C:\\Users\\niraj\\AppData\\Roaming\\Python\\Python311\\site-packages\\sklearn\\base.py:493: UserWarning: X does not have valid feature names, but SVC was fitted with feature names\n",
      "  warnings.warn(\n"
     ]
    },
    {
     "data": {
      "image/png": "[encoded data removed]",
      "text/plain": [
       "<Figure size 640x480 with 1 Axes>"
      ]
     },
     "metadata": {},
     "output_type": "display_data"
    }
   ],
   "source": [
    "# Function to predict and display a particular index\n",
    "def predict_and_display(index):\n",
    "    if index >= len(test_x):\n",
    "        print(\"Index out of range.\")\n",
    "        return\n",
    "    \n",
      
    "    image = test_x.iloc[index].values.reshape(28, 28)  # Convert pandas Series to numpy array and reshape\n",
    "    label = test_y.iloc[index]\n",
    "\n",
      
    "    prediction = classifier.predict([image.flatten()])[0]\n",
    "\n",
      
    "    plt.imshow(image, cmap='gray')\n",
    "    plt.title(f\"True label: {label}, Predicted: {prediction}\")\n",
    "    plt.show()\n",
    "\n",
    "# Example usage: predict and display the image at index 31172\n",
    "predict_and_display(1579)\n"
   ]
  },
  {
   "cell_type": "code",
   "execution_count": 1,
   "metadata": {},
   "outputs": [],
   "source": [
    "#interfacing with raspberrypi3  and Webcam\n",
    "import cv2\n",
    "import numpy as np\n",
    "import joblib\n",
    "import matplotlib.pyplot as plt\n",
    "\n",
    "# Load the trained model\n",
    "model = joblib.load(\"model/digit_recognizer\")\n",
    "\n",
    "# Initialize the webcam\n",
    "cap = cv2.VideoCapture(0)\n",
    "\n",
    "if not cap.isOpened():\n",
    "    print(\"Error: Unable to access the webcam.\")\n",
    "    exit()\n",
    "\n",
    "# Capture a frame from the webcam\n",
    "ret, frame = cap.read()\n",
    "\n",
    "if not ret:\n",
    "    print(\"Error: Failed to capture frame from the webcam.\")\n",
    "    exit()\n",
    "\n",
    "# Convert the frame to grayscale\n",
    "im_gray = cv2.cvtColor(frame, cv2.COLOR_BGR2GRAY)\n",
    "im_gray = cv2.GaussianBlur(im_gray, (15, 15), 0)\n",
    "\n",
    "# Threshold the image\n",
    "_, im_th = cv2.threshold(im_gray, 100, 255, cv2.THRESH_BINARY)\n",
    "roi = cv2.resize(im_th, (28, 28), interpolation=cv2.INTER_AREA)\n",
    "\n",
    "# Invert the image (digits in the dataset are white on black background)\n",
    "roi = cv2.bitwise_not(roi)\n",
    "\n",
    "# Reshape the image to match the input shape of the model\n",
    "X = roi.reshape(1, -1).astype(np.float32) / 255\n",
    "\n",
   
    "prediction = model.predict(X)\n",
    "\n",
    "# Display the frame with the predicted digit\n",
    "plt.imshow(cv2.cvtColor(frame, cv2.COLOR_BGR2RGB))\n",
    "plt.title(f\"Predicted Digit: {prediction[0]}\")\n",
    "plt.axis('off')\n",
    "plt.show()\n",
    "\n",
    "# Release the webcam\n",
    "cap.release()\n"
   ]
  },
  {
   "cell_type": "code",
   "execution_count": null,
   "metadata": {},
   "outputs": [],
   "source": []
  }
 ],
 "metadata": {
  "kernelspec": {
   "display_name": "Python 3",
   "language": "python",
   "name": "python3"
  },
  "language_info": {
   "codemirror_mode": {
    "name": "ipython",
    "version": 3
   },
   "file_extension": ".py",
   "mimetype": "text/x-python",
   "name": "python",
   "nbconvert_exporter": "python",
   "pygments_lexer": "ipython3",
   "version": "3.11.3"
  }
 },
 "nbformat": 4,
 "nbformat_minor": 2
}
